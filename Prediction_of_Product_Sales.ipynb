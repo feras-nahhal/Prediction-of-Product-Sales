{
  "nbformat": 4,
  "nbformat_minor": 0,
  "metadata": {
    "colab": {
      "provenance": [],
      "authorship_tag": "ABX9TyMIKgsT+T5T8+KaJuixTFxc",
      "include_colab_link": true
    },
    "kernelspec": {
      "name": "python3",
      "display_name": "Python 3"
    },
    "language_info": {
      "name": "python"
    }
  },
  "cells": [
    {
      "cell_type": "markdown",
      "metadata": {
        "id": "view-in-github",
        "colab_type": "text"
      },
      "source": [
        "<a href=\"https://colab.research.google.com/github/feras-nahhal/Prediction-of-Product-Sales/blob/main/Prediction_of_Product_Sales.ipynb\" target=\"_parent\"><img src=\"https://colab.research.google.com/assets/colab-badge.svg\" alt=\"Open In Colab\"/></a>"
      ]
    },
    {
      "cell_type": "markdown",
      "source": [
        "# Prediction of Product Sales\n"
      ],
      "metadata": {
        "id": "XbEToFDLvSVH"
      }
    },
    {
      "cell_type": "markdown",
      "source": [
        "- Author: Eng.Feras Hani AlNahhal\n"
      ],
      "metadata": {
        "id": "fm6YauGxvYRr"
      }
    },
    {
      "cell_type": "markdown",
      "source": [
        "## Project Overview"
      ],
      "metadata": {
        "id": "B0Qfo_y_vwiO"
      }
    },
    {
      "cell_type": "markdown",
      "source": [
        "## Load and Inspect Data\n"
      ],
      "metadata": {
        "id": "kZwZX6G2v27h"
      }
    },
    {
      "cell_type": "code",
      "execution_count": null,
      "metadata": {
        "id": "quMOxkqevMCS"
      },
      "outputs": [],
      "source": []
    },
    {
      "cell_type": "markdown",
      "source": [
        "## Clean Data\n"
      ],
      "metadata": {
        "id": "wXPPUyKJv6a2"
      }
    },
    {
      "cell_type": "code",
      "source": [],
      "metadata": {
        "id": "20BXhL_hvnWl"
      },
      "execution_count": null,
      "outputs": []
    },
    {
      "cell_type": "markdown",
      "source": [
        "## Exploratory Data Analysis\n"
      ],
      "metadata": {
        "id": "NSu5nmdtwAln"
      }
    },
    {
      "cell_type": "code",
      "source": [],
      "metadata": {
        "id": "KNEu3cFXwHVX"
      },
      "execution_count": null,
      "outputs": []
    },
    {
      "cell_type": "markdown",
      "source": [
        "## Feature Inspection\n"
      ],
      "metadata": {
        "id": "pk45BIrswFuv"
      }
    },
    {
      "cell_type": "code",
      "source": [],
      "metadata": {
        "id": "GJk4k5BgwLnD"
      },
      "execution_count": null,
      "outputs": []
    }
  ]
}